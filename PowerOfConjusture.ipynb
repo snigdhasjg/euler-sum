{
  "cells": [
    {
      "cell_type": "code",
      "execution_count": 24,
      "metadata": {
        "pycharm": {
          "is_executing": false
        }
      },
      "outputs": [],
      "source": "from pyevolve import G1DList, Consts, GSimpleGA, Selectors, Scaling, DBAdapters,Mutators\nfrom random import seed"
    },
    {
      "cell_type": "code",
      "execution_count": 25,
      "metadata": {
        "pycharm": {
          "is_executing": false
        }
      },
      "outputs": [],
      "source": "# This function is the evaluation function, we want\n# to give high score to more zero\u0027ed chromosomes\ndef eval_func(genome):\n    # iterate over the chromosome\n    # The same as \"score \u003d len(filter(lambda x: x\u003d\u003d0, genome))\"\n    c\u003dgenome[len(genome)-1]**3\n    \n    total\u003d0\n    for value in genome[:len(genome)-1]:\n        total+\u003dvalue**3\n        \n    return abs(c-total)"
    },
    {
      "cell_type": "code",
      "execution_count": 26,
      "metadata": {
        "scrolled": false,
        "pycharm": {
          "is_executing": false
        }
      },
      "outputs": [],
      "source": "def main():\n    # Genome instance, 1D List of 50 elements\n    genome \u003d G1DList.G1DList(4)\n\n    # Sets the range max and min of the 1D List\n    genome.setParams(rangemin\u003d1, rangemax\u003d50,bestrawscore\u003d0.0000)\n\n    # The evaluator function (evaluation function)\n    genome.evaluator.set(eval_func)\n\n    # Genetic Algorithm Instance\n    ga \u003d GSimpleGA.GSimpleGA(genome)\n    ga.setMinimax(Consts.minimaxType[\"minimize\"])\n\n    # set the Roulette Wheel selector method, the number of generations and\n    # the termination criteria\n    ga.selector.set(Selectors.GRouletteWheel)\n    ga.setGenerations(2000)\n    ga.setMutationRate(0.2)\n    ga.setCrossoverRate(0.2)\n    ga.setPopulationSize(300)\n    ga.terminationCriteria.set(GSimpleGA.RawScoreCriteria)\n    #ga.terminationCriteria.set(GSimpleGA.ConvergenceCriteria)\n    \n    pop \u003d ga.getPopulation()\n    pop.scaleMethod.set(Scaling.SigmaTruncScaling)\n\n    # Do the evolution, with stats dump\n    # frequency of 20 generations\n    ga.evolve(freq_stats\u003d100)\n\n    # Best individual\n    print ga.bestIndividual()"
    },
    {
      "cell_type": "code",
      "execution_count": null,
      "outputs": [],
      "source": "if __name__ \u003d\u003d \"__main__\":\n    seed(2)\n    main()",
      "metadata": {
        "pycharm": {
          "metadata": false,
          "name": "#%%\n"
        }
      }
    },
    {
      "cell_type": "code",
      "execution_count": null,
      "outputs": [],
      "source": "\n",
      "metadata": {
        "pycharm": {
          "metadata": false,
          "name": "#%%\n"
        }
      }
    }
  ],
  "metadata": {
    "kernelspec": {
      "name": "pycharm-c575df64",
      "language": "python",
      "display_name": "PyCharm (EulerSum)"
    },
    "language_info": {
      "codemirror_mode": {
        "name": "ipython",
        "version": 2
      },
      "file_extension": ".py",
      "mimetype": "text/x-python",
      "name": "python",
      "nbconvert_exporter": "python",
      "pygments_lexer": "ipython2",
      "version": "2.7.15"
    }
  },
  "nbformat": 4,
  "nbformat_minor": 2
}